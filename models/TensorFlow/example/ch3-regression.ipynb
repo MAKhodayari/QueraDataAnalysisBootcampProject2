{
  "nbformat": 4,
  "nbformat_minor": 0,
  "metadata": {
    "colab": {
      "name": "ch3-regression.ipynb",
      "provenance": [],
      "collapsed_sections": [],
      "mount_file_id": "1YIMhWmjjP5L695xq6X0WnTivxbxN8Gt3",
      "authorship_tag": "ABX9TyM8CsQTd2CGgXiQoQ6fFyJf",
      "include_colab_link": true
    },
    "kernelspec": {
      "name": "python3",
      "display_name": "Python 3"
    },
    "language_info": {
      "name": "python"
    }
  },
  "cells": [
    {
      "cell_type": "markdown",
      "metadata": {
        "id": "view-in-github",
        "colab_type": "text"
      },
      "source": [
        "<a href=\"https://colab.research.google.com/gist/HashemMZ/08584a3c091bf3953c9ffdb1befdd706/ch3-regression.ipynb\" target=\"_parent\"><img src=\"https://colab.research.google.com/assets/colab-badge.svg\" alt=\"Open In Colab\"/></a>"
      ]
    },
    {
      "cell_type": "code",
      "execution_count": null,
      "metadata": {
        "id": "jozLwxJyMQmD"
      },
      "outputs": [],
      "source": [
        "# chapter 3 - regression\n",
        "# boston_reg.py\n",
        "# Python 3.5.2, TensorFlow 2.1.5, Keras 1.7.0\n",
        "import numpy as np\n",
        "import tensorflow as tf\n",
        "from tensorflow import keras as K\n",
        "import os\n",
        "os.environ['TF_CPP_MIN_LOG_LEVEL']='2'"
      ]
    },
    {
      "cell_type": "code",
      "source": [
        "class MyLogger(K.callbacks.Callback):\n",
        "  def __init__(self, n, data_x, data_y, pct_close):\n",
        "    self.n = n\n",
        "    self.data_x = data_x\n",
        "    self.data_y = data_y\n",
        "    self.pct_close = pct_close\n",
        "\n",
        "  def on_epoch_end(self, epoch, logs={}):\n",
        "    if epoch % self.n == 0:\n",
        "      curr_loss = logs.get('loss')\n",
        "      total_acc = my_accuracy(self.model, self.data_x, self.data_y, self.pct_close)\n",
        "      print(\"epoch = %4d curr batch loss (mse) = %0.6f overall acc = %0.2f%%\" % \\\n",
        "      (epoch, curr_loss, total_acc * 100))\n",
        "\n",
        "def my_accuracy(model, data_x, data_y, pct_close):\n",
        "  num_correct = 0; num_wrong = 0\n",
        "  n = len(data_x)\n",
        "  for i in range(n):\n",
        "    predicted = model.predict(np.array([data_x[i]], dtype=np.float32)) #[[x]]\n",
        "    actual = data_y[i]\n",
        "    if np.abs(predicted[0][0] - actual) < np.abs(pct_close * actual):\n",
        "      num_correct += 1\n",
        "    else:\n",
        "      num_wrong += 1\n",
        "  return (num_correct * 1.0) / (num_correct + num_wrong)"
      ],
      "metadata": {
        "id": "nyQBSFp3S1zv"
      },
      "execution_count": null,
      "outputs": []
    },
    {
      "cell_type": "code",
      "source": [
        "# 0. get started\n",
        "print(\"\\nBoston Houses dataset regression example \")\n",
        "np.random.seed(2)\n",
        "tf.random.set_seed(3)\n",
        "kv = K.__version__\n",
        "print(\"Using Keras: \", kv, \"\\n\")\n"
      ],
      "metadata": {
        "id": "52zBsWyBTiRw",
        "colab": {
          "base_uri": "https://localhost:8080/"
        },
        "outputId": "5fa471ce-e1a7-444e-ebf8-85b629c018d7"
      },
      "execution_count": null,
      "outputs": [
        {
          "output_type": "stream",
          "name": "stdout",
          "text": [
            "\n",
            "Boston Houses dataset regression example \n",
            "Using Keras:  2.8.0 \n",
            "\n"
          ]
        }
      ]
    },
    {
      "cell_type": "code",
      "source": [
        "# 1. load data\n",
        "!git clone 'https://github.com/HashemMZ/keras-succinctly.git'\n",
        "print(\"Loading Boston data into memory \")\n",
        "data_file = \"/content/keras-succinctly/Boston/boston_mm_tab.txt\"\n",
        "all_data = np.loadtxt(data_file, delimiter=\"\\t\", skiprows=0, dtype=np.float32)\n",
        "N = len(all_data)\n",
        "indices = np.arange(N)\n",
        "np.random.shuffle(indices)\n",
        "n_train = int(0.80 * N)\n",
        "print(\"Splitting data into training and test sets \\n\")\n",
        "data_x = all_data[indices,:-1]\n",
        "data_y = all_data[indices,-1]\n",
        "train_x = data_x[0:n_train,:]\n",
        "train_y = data_y[0:n_train]\n",
        "test_x = data_x[n_train:N,:]\n",
        "test_y = data_y[n_train:N]"
      ],
      "metadata": {
        "colab": {
          "base_uri": "https://localhost:8080/"
        },
        "id": "YzKxtcgRZSpd",
        "outputId": "c07283fa-89eb-47e4-d72a-1e03527dc446"
      },
      "execution_count": null,
      "outputs": [
        {
          "output_type": "stream",
          "name": "stdout",
          "text": [
            "Cloning into 'datasets4keras'...\n",
            "remote: Enumerating objects: 6, done.\u001b[K\n",
            "remote: Counting objects: 100% (6/6), done.\u001b[K\n",
            "remote: Compressing objects: 100% (4/4), done.\u001b[K\n",
            "remote: Total 6 (delta 0), reused 0 (delta 0), pack-reused 0\u001b[K\n",
            "Unpacking objects: 100% (6/6), done.\n",
            "Loading Boston data into memory \n",
            "Splitting data into training and test sets \n",
            "\n"
          ]
        }
      ]
    },
    {
      "cell_type": "code",
      "source": [
        "# 2. define model\n",
        "init = K.initializers.RandomUniform(seed=1)\n",
        "simple_sgd = K.optimizers.SGD(learning_rate=0.010)#پارامتر نرخ یادگیری اسم جدیدتری دارد\n",
        "model = K.models.Sequential()\n",
        "model.add(K.layers.Dense(units=10, input_dim=13, kernel_initializer=init, activation='tanh')) # hidden layer\n",
        "model.add(K.layers.Dense(units=10, kernel_initializer=init, activation='tanh')) # hidden layer\n",
        "model.add(K.layers.Dense(units=1, kernel_initializer=init, activation=None))\n",
        "model.compile(loss='mean_squared_error', optimizer=simple_sgd, metrics=['mse'])\n"
      ],
      "metadata": {
        "id": "Y8y2hTs4Zcaw"
      },
      "execution_count": null,
      "outputs": []
    },
    {
      "cell_type": "code",
      "source": [
        "# 3. train model\n",
        "batch_size= 8\n",
        "max_epochs = 500\n",
        "my_logger = MyLogger(int(max_epochs/5), train_x, train_y, 0.15)\n",
        "print(\"Starting training \")\n",
        "h = model.fit(train_x, train_y, batch_size=batch_size, epochs=max_epochs, verbose=0, callbacks=[my_logger])\n",
        "print(\"Training finished \\n\")"
      ],
      "metadata": {
        "colab": {
          "base_uri": "https://localhost:8080/"
        },
        "id": "IwxF-57tZmzQ",
        "outputId": "f1a63e1c-5adc-4ed2-fc6c-b3b19f92fc96"
      },
      "execution_count": null,
      "outputs": [
        {
          "output_type": "stream",
          "name": "stdout",
          "text": [
            "Starting training \n",
            "epoch =    0 curr batch loss (mse) = 0.928677 overall acc = 37.87%\n",
            "epoch =  100 curr batch loss (mse) = 0.192066 overall acc = 68.07%\n",
            "epoch =  200 curr batch loss (mse) = 0.164511 overall acc = 70.79%\n",
            "epoch =  300 curr batch loss (mse) = 0.142651 overall acc = 72.52%\n",
            "epoch =  400 curr batch loss (mse) = 0.131459 overall acc = 71.78%\n",
            "Training finished \n",
            "\n"
          ]
        }
      ]
    },
    {
      "cell_type": "code",
      "source": [
        "# 4. evaluate model\n",
        "acc = my_accuracy(model, train_x, train_y, 0.15)\n",
        "print(\"Overall accuracy (wthin 15%%) on training data = %0.4f\" % acc)\n",
        "acc = my_accuracy(model, test_x, test_y, 0.15)\n",
        "print(\"Overall accuracy on test data = %0.4f \\n\" % acc)\n",
        "eval = model.evaluate(train_x, train_y, verbose=0)\n",
        "print(\"Overall loss (mse) on training data = %0.6f\" % eval[0])\n",
        "eval = model.evaluate(test_x, test_y, verbose=0)\n",
        "print(\"Overall loss (mse) on test data = %0.6f\" % eval[0])\n",
        "\n"
      ],
      "metadata": {
        "colab": {
          "base_uri": "https://localhost:8080/"
        },
        "id": "G9iPA47cZjWA",
        "outputId": "14bb26e5-14f6-45ed-8b29-cfef92c6f9d0"
      },
      "execution_count": null,
      "outputs": [
        {
          "output_type": "stream",
          "name": "stdout",
          "text": [
            "Overall accuracy (wthin 15%) on training data = 0.6634\n",
            "Overall accuracy on test data = 0.6961 \n",
            "\n",
            "Overall loss (mse) on training data = 0.132403\n",
            "Overall loss (mse) on test data = 0.122609\n"
          ]
        }
      ]
    },
    {
      "cell_type": "code",
      "source": [
        "# 5. save model\n",
        "print(\"\\nSaving Boston model to disk \\n\")\n",
        "os.chdir('/content/sample_data')\n",
        "mp = \"boston_model.h5\"\n",
        "model.save(mp)\n",
        "\n"
      ],
      "metadata": {
        "colab": {
          "base_uri": "https://localhost:8080/"
        },
        "id": "De19qSI1Zrg3",
        "outputId": "e71438e2-53be-47e9-f8ce-0202b18b8e04"
      },
      "execution_count": null,
      "outputs": [
        {
          "output_type": "stream",
          "name": "stdout",
          "text": [
            "\n",
            "Saving Boston model to disk \n",
            "\n"
          ]
        }
      ]
    },
    {
      "cell_type": "code",
      "source": [
        "# 6. use model\n",
        "np.set_printoptions(precision=1)\n",
        "unknown = np.full(shape=(1,13), fill_value=0.6, dtype=np.float32) \n",
        "unknown[0][3] = -1.0 # binary feature\n",
        "predicted = model.predict(unknown)\n",
        "print(\"Using model to predict median house price for features: \")\n",
        "print(unknown)\n",
        "print(\"\\nPredicted price is: \")\n",
        "print(\"$%0.2f\" % (predicted * 10000))"
      ],
      "metadata": {
        "colab": {
          "base_uri": "https://localhost:8080/"
        },
        "id": "tAVra39cZs8X",
        "outputId": "de7528fc-eb93-41a4-83a6-e606457c8e95"
      },
      "execution_count": null,
      "outputs": [
        {
          "output_type": "stream",
          "name": "stdout",
          "text": [
            "Using model to predict median house price for features: \n",
            "[[ 0.6  0.6  0.6 -1.   0.6  0.6  0.6  0.6  0.6  0.6  0.6  0.6  0.6]]\n",
            "\n",
            "Predicted price is: \n",
            "$9411.44\n"
          ]
        }
      ]
    }
  ]
}
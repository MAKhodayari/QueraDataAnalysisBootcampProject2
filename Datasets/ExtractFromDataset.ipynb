{
 "cells": [
  {
   "cell_type": "code",
   "execution_count": 1,
   "id": "b3b0b06e",
   "metadata": {},
   "outputs": [],
   "source": [
    "import numpy as np\n",
    "import pandas as pd"
   ]
  },
  {
   "cell_type": "code",
   "execution_count": 4,
   "id": "a45712a1",
   "metadata": {},
   "outputs": [],
   "source": [
    "data = pd.read_excel('./WPP2022.xlsx', sheet_name=[0, 1], skiprows=16, header=0)"
   ]
  },
  {
   "cell_type": "code",
   "execution_count": 5,
   "id": "ddee0aac",
   "metadata": {},
   "outputs": [],
   "source": [
    "CountryInfo = data[0].copy()\n",
    "CountryInfo = CountryInfo[CountryInfo['Type'] == 'Country/Area']\n",
    "CountryInfo.sort_values(['Region, subregion, country or area *', 'Year'], inplace=True)\n",
    "CountryInfo.drop(['Index', 'Variant', 'Notes', 'Location code', 'ISO2 Alpha-code',\n",
    "                 'SDMX code**', 'Type', 'Parent code'], axis=1, inplace=True)\n",
    "# country_index = np.arange(len(CountryInfo), dtype=int) + 1\n",
    "# CountryInfo.set_index(country_index, inplace=True)\n",
    "\n",
    "EstimationInfo = data[1].copy()\n",
    "EstimationInfo = EstimationInfo[EstimationInfo['Type'] == 'Country/Area']\n",
    "EstimationInfo.sort_values(['Region, subregion, country or area *', 'Year'], inplace=True)\n",
    "EstimationInfo.drop(['Index', 'Variant', 'Notes', 'Location code', 'ISO2 Alpha-code',\n",
    "                 'SDMX code**', 'Type', 'Parent code'], axis=1, inplace=True)\n",
    "# estimation_index = np.arange(len(EstimationInfo), dtype=int) + 1\n",
    "# EstimationInfo.set_index(estimation_index, inplace=True)\n",
    "\n",
    "countries = np.unique(CountryInfo['Region, subregion, country or area *'])\n",
    "country_names = {'Name': countries}\n",
    "CountryNames = pd.DataFrame(country_names)"
   ]
  },
  {
   "cell_type": "code",
   "execution_count": 6,
   "id": "e71a27bc",
   "metadata": {},
   "outputs": [],
   "source": [
    "CountryInfo.to_csv('CountryInfo.csv', index=None)\n",
    "EstimationInfo.to_csv('EstimationInfo.csv', index=None)\n",
    "CountryNames.to_csv('CountryNames.csv', index=None)"
   ]
  },
  {
   "cell_type": "code",
   "execution_count": null,
   "id": "3f74e108",
   "metadata": {},
   "outputs": [],
   "source": []
  }
 ],
 "metadata": {
  "kernelspec": {
   "display_name": "Python 3 (ipykernel)",
   "language": "python",
   "name": "python3"
  },
  "language_info": {
   "codemirror_mode": {
    "name": "ipython",
    "version": 3
   },
   "file_extension": ".py",
   "mimetype": "text/x-python",
   "name": "python",
   "nbconvert_exporter": "python",
   "pygments_lexer": "ipython3",
   "version": "3.11.0"
  },
  "vscode": {
   "interpreter": {
    "hash": "916dbcbb3f70747c44a77c7bcd40155683ae19c65e1c03b4aa3499c5328201f1"
   }
  }
 },
 "nbformat": 4,
 "nbformat_minor": 5
}

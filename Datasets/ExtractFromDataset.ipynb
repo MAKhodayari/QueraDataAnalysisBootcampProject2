{
 "cells": [
  {
   "cell_type": "code",
   "execution_count": 1,
   "id": "b3b0b06e",
   "metadata": {},
   "outputs": [],
   "source": [
    "import numpy as np\n",
    "import pandas as pd"
   ]
  },
  {
   "cell_type": "code",
   "execution_count": 27,
   "id": "ddee0aac",
   "metadata": {},
   "outputs": [],
   "source": [
    "CountryInfo = pd.read_excel('./WPP2022.xlsx', skiprows=16, header=0)\n",
    "CountryInfo = CountryInfo[CountryInfo['Type'] == 'Country/Area']\n",
    "CountryInfo.sort_values('Region, subregion, country or area *', inplace=True)\n",
    "\n",
    "countries = np.unique(CountryInfo['Region, subregion, country or area *'])\n",
    "country_names = {'Name': countries}\n",
    "CountryNames = pd.DataFrame(country_names)"
   ]
  },
  {
   "cell_type": "code",
   "execution_count": 28,
   "id": "e71a27bc",
   "metadata": {},
   "outputs": [],
   "source": [
    "CountryInfo.to_csv('CountryInfo.csv', index=None)\n",
    "CountryNames.to_csv('CountryNames.csv', index=None)"
   ]
  }
 ],
 "metadata": {
  "kernelspec": {
   "display_name": "Python 3 (ipykernel)",
   "language": "python",
   "name": "python3"
  },
  "language_info": {
   "codemirror_mode": {
    "name": "ipython",
    "version": 3
   },
   "file_extension": ".py",
   "mimetype": "text/x-python",
   "name": "python",
   "nbconvert_exporter": "python",
   "pygments_lexer": "ipython3",
   "version": "3.11.0"
  }
 },
 "nbformat": 4,
 "nbformat_minor": 5
}
